{
 "cells": [
  {
   "cell_type": "code",
   "execution_count": null,
   "metadata": {},
   "outputs": [],
   "source": []
  },
  {
   "cell_type": "code",
   "execution_count": 11,
   "metadata": {},
   "outputs": [
    {
     "name": "stdout",
     "output_type": "stream",
     "text": [
      "enter the test size.1\n",
      "actual output:\n",
      "[0 1 2 0 2 2 0 1 2 1 2 1 1 1 0]\n",
      "predicted output through knn algo:\n",
      "[0 1 2 0 1 2 0 1 1 1 2 1 1 1 0]\n",
      "actual output:\n",
      "[0 1 2 0 2 2 0 1 2 1 2 1 1 1 0]\n",
      "predicted output through tree algo\n",
      "[0 1 2 0 1 2 0 1 1 2 2 1 1 1 0]\n",
      "accuracy for knn\n",
      "0.8666666666666667\n",
      "accuracy for tree\n",
      "0.8\n",
      "press 1 to continue1\n",
      "enter the test size.2\n",
      "actual output:\n",
      "[0 1 0 1 2 2 0 0 1 1 0 0 0 0 1 2 2 2 0 1 2 1 0 1 2 1 2 2 1 2]\n",
      "predicted output through knn algo:\n",
      "[0 1 0 1 2 2 0 0 1 1 0 0 0 0 1 2 1 2 0 1 2 1 0 1 2 1 2 2 1 2]\n",
      "actual output:\n",
      "[0 1 0 1 2 2 0 0 1 1 0 0 0 0 1 2 2 2 0 1 2 1 0 1 2 1 2 2 1 2]\n",
      "predicted output through tree algo\n",
      "[0 1 0 1 2 2 0 0 1 1 0 0 0 0 1 2 1 2 0 1 2 2 0 1 2 1 2 2 1 2]\n",
      "accuracy for knn\n",
      "0.9666666666666667\n",
      "accuracy for tree\n",
      "0.9333333333333333\n",
      "press 1 to continue1\n",
      "enter the test size.5\n",
      "actual output:\n",
      "[0 0 0 2 1 0 0 2 1 0 0 1 2 0 1 0 0 1 1 0 2 2 0 1 2 2 0 2 2 0 0 1 0 1 1 2 0\n",
      " 2 0 1 1 2 1 1 0 0 0 1 0 0 1 1 1 0 2 2 2 0 1 2 1 0 2 1 1 0 2 1 2 1 2 1 0 0\n",
      " 1]\n",
      "predicted output through knn algo:\n",
      "[0 0 0 1 1 0 0 2 1 0 0 1 2 0 1 0 0 1 1 0 2 2 0 1 2 2 0 2 2 0 0 1 0 2 1 1 0\n",
      " 2 0 1 2 2 1 1 0 0 0 1 0 0 1 1 1 0 2 2 2 0 1 2 1 0 2 1 1 0 2 1 2 1 2 1 0 0\n",
      " 1]\n",
      "actual output:\n",
      "[0 0 0 2 1 0 0 2 1 0 0 1 2 0 1 0 0 1 1 0 2 2 0 1 2 2 0 2 2 0 0 1 0 1 1 2 0\n",
      " 2 0 1 1 2 1 1 0 0 0 1 0 0 1 1 1 0 2 2 2 0 1 2 1 0 2 1 1 0 2 1 2 1 2 1 0 0\n",
      " 1]\n",
      "predicted output through tree algo\n",
      "[0 0 0 2 1 0 0 2 1 0 0 1 2 0 1 0 0 1 1 0 2 2 0 1 2 2 0 2 2 0 0 1 0 2 1 1 0\n",
      " 2 0 1 2 2 2 1 0 0 0 1 0 0 1 2 1 0 2 2 2 0 1 2 2 0 2 1 1 0 2 1 2 1 2 1 0 0\n",
      " 1]\n",
      "accuracy for knn\n",
      "0.9466666666666667\n",
      "accuracy for tree\n",
      "0.92\n",
      "press 1 to continue2\n"
     ]
    },
    {
     "data": {
      "text/plain": [
       "[<matplotlib.lines.Line2D at 0x7f6b59780b38>]"
      ]
     },
     "execution_count": 11,
     "metadata": {},
     "output_type": "execute_result"
    },
    {
     "data": {
      "image/png": "[encoded data removed]",
      "text/plain": [
       "<Figure size 432x288 with 1 Axes>"
      ]
     },
     "metadata": {},
     "output_type": "display_data"
    }
   ],
   "source": [
    "#! /usr/bin/python3\n",
    "import numpy\n",
    "from sklearn.datasets import load_iris\n",
    "from sklearn import tree\n",
    "from sklearn.neighbors import KNeighborsClassifier\n",
    "from sklearn.model_selection import train_test_split \n",
    "from sklearn.metrics import accuracy_score\n",
    "import matplotlib.pyplot as plt\n",
    "iris=load_iris()\n",
    "#list to store different test_size\n",
    "l1=[]\n",
    "#list to store accuracy_score for knn algo\n",
    "l2=[]\n",
    "#ist to store accuracy_score for tree algo\n",
    "l3=[]\n",
    "choice=1\n",
    "while choice==1 :\n",
    "    s=float(input(\"enter the test size\"))\n",
    "    #training,testing and splitting\n",
    "    train_iris,test_iris,train_target,test_target=train_test_split(iris.data, iris.target,test_size=s)\n",
    "    l1.append(s)\n",
    "    #calling knn classifier\n",
    "    knclf=KNeighborsClassifier(n_neighbors=3)\n",
    "    dsclf=tree.DecisionTreeClassifier()\n",
    "    #data training\n",
    "    trained_knclf=knclf.fit(train_iris,train_target)\n",
    "    trained_dsclf=dsclf.fit(train_iris,train_target)\n",
    "    #predicting the output\n",
    "    output_knclf=trained_knclf.predict(test_iris)\n",
    "    output_dsclf=trained_dsclf.predict(test_iris)\n",
    "    #printing output\n",
    "    print(\"actual output:\")\n",
    "    print(test_target)\n",
    "    print(\"predicted output through knn algo:\")\n",
    "    print(output_knclf)\n",
    "    print(\"actual output:\")\n",
    "    print(test_target)\n",
    "    print(\"predicted output through tree algo\")\n",
    "    print(output_dsclf)\n",
    "    #checking the accuracy %\n",
    "    acc_pct=accuracy_score(test_target,output_knclf)\n",
    "    print(\"accuracy for knn\")\n",
    "    print(acc_pct)\n",
    "    l2.append(acc_pct)\n",
    "    acc_pct1=accuracy_score(test_target,output_dsclf)\n",
    "    print(\"accuracy for tree\")\n",
    "    print(acc_pct1)\n",
    "    l3.append(acc_pct1)\n",
    "    choice=int(input(\"press 1 to continue\"))\n",
    "#plotting the graph between test size and accuracy percentage\n",
    "plt.xlabel(\"actual output\")\n",
    "plt.ylabel(\"predicted output\")\n",
    "plt.plot(l1,l2,label=\"knn\",color='Yellow')\n",
    "plt.plot(l1,l3,label=\"tree\",color='Blue')"
   ]
  },
  {
   "cell_type": "code",
   "execution_count": null,
   "metadata": {},
   "outputs": [],
   "source": []
  },
  {
   "cell_type": "code",
   "execution_count": null,
   "metadata": {},
   "outputs": [],
   "source": []
  }
 ],
 "metadata": {
  "kernelspec": {
   "display_name": "Python 3",
   "language": "python",
   "name": "python3"
  },
  "language_info": {
   "codemirror_mode": {
    "name": "ipython",
    "version": 3
   },
   "file_extension": ".py",
   "mimetype": "text/x-python",
   "name": "python",
   "nbconvert_exporter": "python",
   "pygments_lexer": "ipython3",
   "version": "3.5.2"
  }
 },
 "nbformat": 4,
 "nbformat_minor": 2
}
