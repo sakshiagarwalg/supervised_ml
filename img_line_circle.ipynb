{
 "cells": [
  {
   "cell_type": "code",
   "execution_count": null,
   "metadata": {},
   "outputs": [],
   "source": [
    "#!/usr/bin/python3\n",
    "import numpy\n",
    "import cv2\n",
    "import os\n",
    "\n",
    "# reading the image\n",
    "img=cv2.imread(\"flower.jpg\",0)\n",
    "# printing the no. of rows and  \n",
    "#print(img.shape)\n",
    "\n",
    "# drwaing the line in the image\n",
    "#  img data, start pt, end pt, color,lne width\n",
    "cv2.line(img,(0,0),(100,100),(100,200,255),3)\n",
    "#drawing rectangle\n",
    "# img data, of width is -1 then the rectangle will be coloured\n",
    "cv2.rectangle(img,(25,25),(170,170),(200,200,255),-1)\n",
    "#drawing circle\n",
    "#img data, centre point, radius,color, width\n",
    "cv2.circle(img,(100,100),30,(128,100,255),-1)\n",
    "# to show images \n",
    "cv2.imshow(\"lineimg\",img)\n",
    "# saving the image\n",
    "#cv2.imwrite(\"line_circle\",img)\n",
    "#deciding the font type\n",
    "#font=cv2.FONT_HERSHEY_SIMPLEX\n",
    "#  to hold  upper window  \n",
    "cv2.waitKey(0)\n",
    "cv2.destroyAllWindows()"
   ]
  },
  {
   "cell_type": "code",
   "execution_count": null,
   "metadata": {},
   "outputs": [],
   "source": []
  },
  {
   "cell_type": "code",
   "execution_count": null,
   "metadata": {},
   "outputs": [],
   "source": []
  }
 ],
 "metadata": {
  "kernelspec": {
   "display_name": "Python 3",
   "language": "python",
   "name": "python3"
  },
  "language_info": {
   "codemirror_mode": {
    "name": "ipython",
    "version": 3
   },
   "file_extension": ".py",
   "mimetype": "text/x-python",
   "name": "python",
   "nbconvert_exporter": "python",
   "pygments_lexer": "ipython3",
   "version": "3.5.2"
  }
 },
 "nbformat": 4,
 "nbformat_minor": 2
}
