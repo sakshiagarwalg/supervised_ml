{
 "cells": [
  {
   "cell_type": "code",
   "execution_count": 41,
   "metadata": {},
   "outputs": [
    {
     "name": "stdout",
     "output_type": "stream",
     "text": [
      "enter the test size.4\n",
      "[0 1 0 2 2 1 2 1 1 2 2 2 0 1 1 2 0 0 0 0 1 0 2 1 2 2 1 0 2 2 1 0 1 0 0 0 1\n",
      " 0 2 0 0 0 1 0 2 0 2 0 2 0 0 0 1 2 0 0 0 1 1 1]\n",
      "[0 1 0 2 2 1 2 1 1 2 2 2 0 1 1 2 0 0 0 0 1 0 2 1 2 2 1 0 2 2 1 0 2 0 0 0 1\n",
      " 0 2 0 0 0 1 0 2 0 2 0 2 0 0 0 1 2 0 0 0 1 1 1]\n",
      "0.9833333333333333\n"
     ]
    },
    {
     "data": {
      "text/plain": [
       "<BarContainer object of 1 artists>"
      ]
     },
     "execution_count": 41,
     "metadata": {},
     "output_type": "execute_result"
    },
    {
     "data": {
      "image/png": "[encoded data removed]",
      "text/plain": [
       "<Figure size 432x288 with 1 Axes>"
      ]
     },
     "metadata": {},
     "output_type": "display_data"
    }
   ],
   "source": [
    "#! /usr/bin/python3\n",
    "import os\n",
    "import numpy\n",
    "from sklearn import datasets\n",
    "from sklearn.datasets import load_iris\n",
    "from sklearn import model_selection\n",
    "from sklearn.model_selection import train_test_split\n",
    "from sklearn import metrics\n",
    "from sklearn.metrics import accuracy_score\n",
    "import matplotlib.pyplot as plt\n",
    "iris=load_iris()\n",
    "#training flower features data value is stored in irris.data\n",
    "#o/p is accordingly stored in iris.target\n",
    "#now splitting int\n",
    "# test and train datasets\n",
    "l1=[]\n",
    "l2=[]\n",
    "size=float(input(\"enter the test size\"))\n",
    "\n",
    "train_data,test_data,train_target,test_target=train_test_split(iris.data, iris.target, test_size=size)\n",
    "l1.append(size)\n",
    "'''\n",
    " train_iris{all features containing 90%}\n",
    " remaining{10% features} \n",
    " train_target{all label containing 90% of iris.target}\n",
    " test_target{remaining 10% of iris.target}\n",
    "'''\n",
    "from sklearn import tree\n",
    "dsclf=tree.DecisionTreeClassifier()\n",
    "trained=dsclf.fit(train_data,train_target)\n",
    "output=trained.predict(test_data)\n",
    "# printing predicted output\n",
    "print(output)\n",
    "#printing actual output\n",
    "print(test_target)\n",
    "#checking % of accuracy\n",
    "acc_pct=accuracy_score(test_target,output)\n",
    "l2.append(acc_pct)\n",
    "print(acc_pct)\n",
    "#plotting the graph between test size and accuracy percentage\n",
    "#plt.xlabel(\"test size\")\n",
    "#plt.ylabel(\"accuracy percentage\")\n",
    "#plt.bar(l1,l2)\n",
    "plt.bar(test_target,output)"
   ]
  },
  {
   "cell_type": "code",
   "execution_count": null,
   "metadata": {},
   "outputs": [],
   "source": []
  }
 ],
 "metadata": {
  "kernelspec": {
   "display_name": "Python 3",
   "language": "python",
   "name": "python3"
  },
  "language_info": {
   "codemirror_mode": {
    "name": "ipython",
    "version": 3
   },
   "file_extension": ".py",
   "mimetype": "text/x-python",
   "name": "python",
   "nbconvert_exporter": "python",
   "pygments_lexer": "ipython3",
   "version": "3.5.2"
  }
 },
 "nbformat": 4,
 "nbformat_minor": 2
}
