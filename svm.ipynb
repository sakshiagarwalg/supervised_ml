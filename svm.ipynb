{
 "cells": [
  {
   "cell_type": "code",
   "execution_count": 6,
   "metadata": {},
   "outputs": [
    {
     "name": "stdout",
     "output_type": "stream",
     "text": [
      "[5]\n",
      "9\n"
     ]
    }
   ],
   "source": [
    "#! /usr/bin/python3\n",
    "import numpy\n",
    "from sklearn.datasets import load_digits\n",
    "from sklearn.svm import SVC\n",
    "#loading data images\n",
    "digits=load_digits()\n",
    "'''\n",
    "print(digits.data.shape)\n",
    "print(digits.data.size)\n",
    "print(digits.target.shape)\n",
    "print(digits.target.size)\n",
    "'''\n",
    "train_data=digits.data\n",
    "train_target=digits.target\n",
    "#separating the testing and training data\n",
    "td_original=numpy.delete(train_data,-2,axis=0)\n",
    "tt_original=numpy.delete(train_target,-2)\n",
    "#calling classifier\n",
    "clf=SVC()\n",
    "#training algo\n",
    "trained=clf.fit(td_original,tt_original)\n",
    "#output\n",
    "output=trained.predict(digits.data[-2].reshape(1,64))\n",
    "print(output)\n",
    "print(digits.target[-2])\n",
    "#plotting the test images\n",
    "#plt.imshow(digits.images[1])\n",
    "#plt.show()"
   ]
  },
  {
   "cell_type": "code",
   "execution_count": null,
   "metadata": {},
   "outputs": [],
   "source": []
  },
  {
   "cell_type": "code",
   "execution_count": null,
   "metadata": {},
   "outputs": [],
   "source": []
  }
 ],
 "metadata": {
  "kernelspec": {
   "display_name": "Python 3",
   "language": "python",
   "name": "python3"
  },
  "language_info": {
   "codemirror_mode": {
    "name": "ipython",
    "version": 3
   },
   "file_extension": ".py",
   "mimetype": "text/x-python",
   "name": "python",
   "nbconvert_exporter": "python",
   "pygments_lexer": "ipython3",
   "version": "3.5.2"
  }
 },
 "nbformat": 4,
 "nbformat_minor": 2
}
